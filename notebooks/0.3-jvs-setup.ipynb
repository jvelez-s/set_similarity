{
 "cells": [
  {
   "cell_type": "markdown",
   "metadata": {},
   "source": [
    "# 0.3 Setup"
   ]
  },
  {
   "cell_type": "markdown",
   "metadata": {},
   "source": [
    "To run our setup notebook to have the control variables on the table, we will use the magic of **IPython** called `%run` at the beginning of each of the subsequent notebooks.\n",
    "\n",
    "But... wait. _What is a magic?_\n",
    "\n",
    "Magic commands or magic functions are one of the important enhancements that IPython offers compared to the standard Python shell. These magic commands are intended to solve common problems in data analysis using Python. In fact, they control the behaviour of IPython itself.\n",
    "\n",
    "Magic commands act as convenient functions where Python syntax is not the most natural one. They are useful to embed invalid python syntax in their work flow.\n",
    "\n",
    ">**Note:** To Jupyter users: Magics are specific to and provided by the IPython kernel. Whether Magics are available on a kernel is a decision that is made by the kernel developer on a per-kernel basis. To work properly, Magics must use a syntax element which is not valid in the underlying language. For example, the IPython kernel uses the **%** syntax element for Magics as **%** is not a valid unary operator in Python. However, **%** might have meaning in other languages.\n",
    "Reference available [here](https://ipython.readthedocs.io/en/stable/interactive/magics.html)."
   ]
  },
  {
   "cell_type": "markdown",
   "metadata": {},
   "source": [
    "## Imports"
   ]
  },
  {
   "cell_type": "code",
   "execution_count": 1,
   "metadata": {},
   "outputs": [],
   "source": [
    "from pyprojroot import here"
   ]
  },
  {
   "cell_type": "markdown",
   "metadata": {},
   "source": [
    "## Load utils"
   ]
  },
  {
   "cell_type": "code",
   "execution_count": 2,
   "metadata": {},
   "outputs": [
    {
     "data": {
      "text/plain": [
       "True"
      ]
     },
     "execution_count": 2,
     "metadata": {},
     "output_type": "execute_result"
    }
   ],
   "source": [
    "utils_file = here(\"notebooks\").joinpath(\"0.2-jvs-utils.ipynb\")\n",
    "utils_file.exists()"
   ]
  },
  {
   "cell_type": "markdown",
   "metadata": {},
   "source": [
    "**%run** can execute the named file inside IPython as a program."
   ]
  },
  {
   "cell_type": "code",
   "execution_count": 3,
   "metadata": {},
   "outputs": [],
   "source": [
    "%run $utils_file"
   ]
  },
  {
   "cell_type": "markdown",
   "metadata": {},
   "source": [
    "Now, the variables that we define in our **utils notebook** are available in this notebook too. Therefore, we can make use of these variables in our notebooks to have a cleaner and more orderly workflow. Let's take a look at some of them."
   ]
  },
  {
   "cell_type": "markdown",
   "metadata": {},
   "source": [
    "## Variables/functions for paths\n",
    "\n",
    "In order to build a more orderly project regarding the use of relative path files, it was decided to create a function to access each folder that was considered useful in the project in a faster and more useful way.\n",
    "\n",
    "### Project organization\n",
    "--------  \n",
    "    ├── data  \n",
    "    │   ├── external       <- Data from third party sources.  \n",
    "    │   ├── interim        <- Intermediate data that has been transformed.  \n",
    "    │   ├── processed      <- The final, canonical data sets for modeling.  \n",
    "    │   └── raw            <- The original, immutable data dump.  \n",
    "    │  \n",
    "    ├── notebooks          <- Jupyter notebooks. Naming convention is a number (for ordering),  \n",
    "    │                         the creator's initials, and a short `-` delimited description, e.g.  \n",
    "    │                         `1.0-jqp-initial-data-exploration`.  \n",
    "    │  \n",
    "    ├── references         <- Data dictionaries, manuals, and all other explanatory materials.  \n",
    "    │  \n",
    "    ├── reports            <- Generated analysis as HTML, PDF, LaTeX, etc.  \n",
    "    │   └── figures        <- Generated graphics and figures to be used in reporting.\n",
    "    └──\n",
    "--------"
   ]
  },
  {
   "cell_type": "code",
   "execution_count": 4,
   "metadata": {},
   "outputs": [
    {
     "data": {
      "text/plain": [
       "{'datadir': <function __main__.make_dir_function.<locals>.dir_path(*args) -> pathlib.PosixPath>,\n",
       " 'rawdir': <function __main__.make_dir_function.<locals>.dir_path(*args) -> pathlib.PosixPath>,\n",
       " 'processeddir': <function __main__.make_dir_function.<locals>.dir_path(*args) -> pathlib.PosixPath>,\n",
       " 'interimdir': <function __main__.make_dir_function.<locals>.dir_path(*args) -> pathlib.PosixPath>,\n",
       " 'externaldir': <function __main__.make_dir_function.<locals>.dir_path(*args) -> pathlib.PosixPath>,\n",
       " 'notebooksdir': <function __main__.make_dir_function.<locals>.dir_path(*args) -> pathlib.PosixPath>,\n",
       " 'referencesdir': <function __main__.make_dir_function.<locals>.dir_path(*args) -> pathlib.PosixPath>,\n",
       " 'reportsdir': <function __main__.make_dir_function.<locals>.dir_path(*args) -> pathlib.PosixPath>,\n",
       " 'figuresdir': <function __main__.make_dir_function.<locals>.dir_path(*args) -> pathlib.PosixPath>}"
      ]
     },
     "execution_count": 4,
     "metadata": {},
     "output_type": "execute_result"
    }
   ],
   "source": [
    "# Each directory is converted into a function, keeping the directory name as the last element in the list if applicable.\n",
    "# thus avoiding long nested variable names.\n",
    "directories_to_create = [\n",
    "    \"data\",\n",
    "    [\"data\", \"raw\"],\n",
    "    [\"data\", \"processed\"],\n",
    "    [\"data\", \"interim\"],\n",
    "    [\"data\", \"external\"],\n",
    "    \"notebooks\",\n",
    "    \"references\",\n",
    "    \"reports\",\n",
    "    [\"reports\", \"figures\"]\n",
    "]\n",
    "\n",
    "_util_path_functions = {\n",
    "   \"{}dir\".format(dirname[-1]) if type(dirname) == list else \"{}dir\".format(dirname):\n",
    "    make_dir_function(dirname) for dirname in directories_to_create\n",
    "}\n",
    "_util_path_functions"
   ]
  },
  {
   "cell_type": "code",
   "execution_count": 5,
   "metadata": {},
   "outputs": [],
   "source": [
    "# Create directories if needed.\n",
    "for _util_path_function in _util_path_functions.values():\n",
    "    _util_path_function().mkdir(exist_ok=True)"
   ]
  },
  {
   "cell_type": "code",
   "execution_count": 6,
   "metadata": {},
   "outputs": [],
   "source": [
    "# Each key in the path dictionary becomes a local variable with the associated value as its own value.\n",
    "locals().update(_util_path_functions)"
   ]
  },
  {
   "cell_type": "markdown",
   "metadata": {},
   "source": [
    "## Plot defaults"
   ]
  },
  {
   "cell_type": "code",
   "execution_count": 7,
   "metadata": {},
   "outputs": [],
   "source": [
    "set_plot_defaults()"
   ]
  }
 ],
 "metadata": {
  "kernelspec": {
   "display_name": "Python 3",
   "language": "python",
   "name": "python3"
  },
  "language_info": {
   "codemirror_mode": {
    "name": "ipython",
    "version": 3
   },
   "file_extension": ".py",
   "mimetype": "text/x-python",
   "name": "python",
   "nbconvert_exporter": "python",
   "pygments_lexer": "ipython3",
   "version": "3.8.5"
  }
 },
 "nbformat": 4,
 "nbformat_minor": 4
}
