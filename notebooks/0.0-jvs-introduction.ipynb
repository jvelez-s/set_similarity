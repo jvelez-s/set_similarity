{
 "cells": [
  {
   "cell_type": "markdown",
   "metadata": {},
   "source": [
    "# 0.0 Introduction\n",
    "\n",
    "This notebook explains the generalities and way of working in this project.\n",
    "\n",
    "- **Way of working:** In this project certain work rules are followed in order to have a structured work. These are listed below.\n",
    "    - **Notebooks** \n",
    "        - **Naming:** For the naming of the notebooks to be used, a notation is used that allows us to define the order in which the notebooks must be executed to obtain the same results that the developers of this project obtained. To do this, it begins with a numbering where the first number indicates the section in which it is working and the subsequent numbers after the point represent subsections of the general work. Then a dash is inserted and the initials of the person creating the notebook are added, another dash is inserted, and a short description of the contents of the notebook is written separated by underscores.\n",
    "        - **Header:** The header of each file should start with its identification number (specified in \"naming\") followed by an intuitive title, preferably the name of the file.\n",
    "        - **Location:** The notebooks should be located according to the job or subproject in time, delimited by a subfolder in the. For example, we currently have two subprojects: the project applied to go terms (see complex_regulons folder) or applied to multifun terms (see multifun folder). If a new notebook plans to be used in multiple notebooks of different data sets, then these will be placed in the main notebook folder.\n",
    "    - **Definition of file paths:** To define the location of files, mainly data, it will be mandatory to use the relative paths proposed by the `here` function in the **pyprojroot** package. `here` will detect the root of the project and, then, to define subdirectories the `joinpath` function will be used, which will allow creating paths independent of the operating system. In doing so, ensuring that the **paths work independently of the operating system** while having a programmatic way of working with routes in python."
   ]
  },
  {
   "cell_type": "markdown",
   "metadata": {},
   "source": [
    "## Complex regulons"
   ]
  },
  {
   "cell_type": "markdown",
   "metadata": {},
   "source": [
    "- [**1.0-jvs-similarity_analysis.ipynb**](./complex_regulons/1.0-jvs-similarity_analysis.ipynb): This notebook will preprocess the raw data to transform it into a useful form for performing functional **similarity analysis** of **complex regulons**, guided by terms of **Gene Ontologies** (GOs) of _E. coli_.\n",
    "- **Objetive:** The main or objective of this notebook is to effectively filter those less specific GO terms, preserving non-redundant terms. Which translates into being able to **define the basic functionality of a complex regulon**.  \n",
    "> For instance, if the following values were associated with a complex regulon:\n",
    "> - respose to stimulus, response to stress and response to heat.  \n",
    ">  \n",
    "> **Question:** what would be the most specific term?  \n",
    "> **Answer:** response to heat.  \n",
    "\n",
    "    On the other hand, while characterizing the complex regulon can be useful, knowing all the terms that accompany it can help when making functional comparisons, especially when using set similarity techniques such as the **jaccard index** presented below. Therefore, once those characteristic terms are obtained for each complex regulon, all the ancestors are added."
   ]
  },
  {
   "cell_type": "markdown",
   "metadata": {},
   "source": [
    "## Multifun"
   ]
  },
  {
   "cell_type": "markdown",
   "metadata": {},
   "source": [
    "- [**1.0-jvs-similarity_analysis.ipynb**](./multifun/1.0-jvs-similarity_analysis.ipynb): This notebook will preprocess the raw data to transform it into a useful form for performing functional **similarity analysis** of **Tf-gene network**, guided by terms of **MultiFun** of _E. coli_.\n",
    "- **Objetive:** Since the functions in **MultiFun terms are hierarchical**, the goal of this notebook is to associate a level of similarity by comparing each level of specificity with its peer, in addition to functional similarity without considering any hierarchy."
   ]
  }
 ],
 "metadata": {
  "kernelspec": {
   "display_name": "Python 3",
   "language": "python",
   "name": "python3"
  },
  "language_info": {
   "codemirror_mode": {
    "name": "ipython",
    "version": 3
   },
   "file_extension": ".py",
   "mimetype": "text/x-python",
   "name": "python",
   "nbconvert_exporter": "python",
   "pygments_lexer": "ipython3",
   "version": "3.8.5"
  }
 },
 "nbformat": 4,
 "nbformat_minor": 4
}
